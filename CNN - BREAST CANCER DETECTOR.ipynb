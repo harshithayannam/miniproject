{
 "cells": [
  {
   "cell_type": "markdown",
   "metadata": {},
   "source": [
    "# 1. IMPORT LIBRARIES"
   ]
  },
  {
   "cell_type": "code",
   "execution_count": 1,
   "metadata": {},
   "outputs": [],
   "source": [
    "from tensorflow.keras.models import Sequential\n",
    "from tensorflow.keras.layers import Dense, Convolution2D, MaxPooling2D, Flatten\n",
    "from tensorflow.keras.preprocessing.image import ImageDataGenerator"
   ]
  },
  {
   "cell_type": "markdown",
   "metadata": {},
   "source": [
    "# 2. IMAGE PREPROCESSING"
   ]
  },
  {
   "cell_type": "code",
   "execution_count": 2,
   "metadata": {},
   "outputs": [],
   "source": [
    "train_data = ImageDataGenerator(rescale = 1./224, shear_range = 0.2, zoom_range = 0.2, horizontal_flip = True)\n",
    "test_data = ImageDataGenerator(rescale = 1./224)"
   ]
  },
  {
   "cell_type": "code",
   "execution_count": 3,
   "metadata": {},
   "outputs": [
    {
     "name": "stdout",
     "output_type": "stream",
     "text": [
      "Found 200 images belonging to 2 classes.\n",
      "Found 200 images belonging to 2 classes.\n"
     ]
    }
   ],
   "source": [
    "x_train = train_data.flow_from_directory(r'C:\\Users\\Sri_Harshitha\\Desktop\\BC_Project\\Dataset\\TRAIN', target_size = (32,32), batch_size = 32, class_mode = \"binary\")\n",
    "x_test = test_data.flow_from_directory(r'C:\\Users\\Sri_Harshitha\\Desktop\\BC_Project\\Dataset\\TEST', target_size = (32,32), batch_size = 32, class_mode = \"binary\")"
   ]
  },
  {
   "cell_type": "raw",
   "metadata": {},
   "source": [
    "HERE THE TWO CLASSES ARE BENIGN AND MALIGNANT\n",
    "BENIGN - CLASS 0\n",
    "MALIGNANT - CLASS 1"
   ]
  },
  {
   "cell_type": "markdown",
   "metadata": {},
   "source": [
    "# 3. INITIALIZING THE MODEL"
   ]
  },
  {
   "cell_type": "code",
   "execution_count": 4,
   "metadata": {},
   "outputs": [],
   "source": [
    "detector = Sequential()"
   ]
  },
  {
   "cell_type": "markdown",
   "metadata": {},
   "source": [
    "# 4. ADDING CONVOLUTION LAYER"
   ]
  },
  {
   "cell_type": "code",
   "execution_count": 5,
   "metadata": {},
   "outputs": [],
   "source": [
    "detector.add(Convolution2D(32,(3,3), input_shape = (32,32,3)))\n",
    "# the 3 in input shape indicates it is coloured image(RGB)\n",
    "# (3,3) indicates feature detector matrix size\n",
    "# 32 in no of feature detectors"
   ]
  },
  {
   "cell_type": "markdown",
   "metadata": {},
   "source": [
    "# 5. ADDING POOLING LAYER"
   ]
  },
  {
   "cell_type": "code",
   "execution_count": 6,
   "metadata": {},
   "outputs": [],
   "source": [
    "detector.add(MaxPooling2D((2,2)))\n",
    "# (2,2) is pooling matrix size"
   ]
  },
  {
   "cell_type": "code",
   "execution_count": 7,
   "metadata": {},
   "outputs": [],
   "source": [
    "detector.add(Convolution2D(64,(3,3), input_shape = (32,32,3)))\n",
    "detector.add(MaxPooling2D((2,2)))"
   ]
  },
  {
   "cell_type": "code",
   "execution_count": 8,
   "metadata": {},
   "outputs": [],
   "source": [
    "detector.add(Convolution2D(128,(3,3), input_shape = (32,32,3)))\n",
    "detector.add(MaxPooling2D((2,2)))"
   ]
  },
  {
   "cell_type": "markdown",
   "metadata": {},
   "source": [
    "# 6. ADDING FLATTEN LAYER"
   ]
  },
  {
   "cell_type": "code",
   "execution_count": 9,
   "metadata": {},
   "outputs": [],
   "source": [
    "detector.add(Flatten())  #gives input layer"
   ]
  },
  {
   "cell_type": "markdown",
   "metadata": {},
   "source": [
    "# 7. ADDING HIDDEN LAYER"
   ]
  },
  {
   "cell_type": "code",
   "execution_count": 10,
   "metadata": {},
   "outputs": [],
   "source": [
    "detector.add(Dense(units = 512, kernel_initializer = \"random_uniform\", activation = \"relu\"))"
   ]
  },
  {
   "cell_type": "markdown",
   "metadata": {},
   "source": [
    "# 8. ADDING OUTPUT LAYER"
   ]
  },
  {
   "cell_type": "code",
   "execution_count": 11,
   "metadata": {},
   "outputs": [],
   "source": [
    "detector.add(Dense(units = 1, kernel_initializer = \"random_uniform\", activation = \"sigmoid\"))"
   ]
  },
  {
   "cell_type": "markdown",
   "metadata": {},
   "source": [
    "# 9. MODEL TRAINING"
   ]
  },
  {
   "cell_type": "code",
   "execution_count": 12,
   "metadata": {},
   "outputs": [],
   "source": [
    "detector.compile(optimizer = \"adam\", loss = \"binary_crossentropy\", metrics = [\"accuracy\"])  "
   ]
  },
  {
   "cell_type": "code",
   "execution_count": 13,
   "metadata": {},
   "outputs": [
    {
     "name": "stdout",
     "output_type": "stream",
     "text": [
      "Epoch 1/100\n",
      "6/6 [==============================] - 3s 247ms/step - loss: 0.6916 - accuracy: 0.5417 - val_loss: 0.7319 - val_accuracy: 0.5104\n",
      "Epoch 2/100\n",
      "6/6 [==============================] - 1s 137ms/step - loss: 0.5580 - accuracy: 0.6488 - val_loss: 0.8541 - val_accuracy: 0.3542\n",
      "Epoch 3/100\n",
      "6/6 [==============================] - 1s 124ms/step - loss: 0.3883 - accuracy: 0.8690 - val_loss: 1.6873 - val_accuracy: 0.3438\n",
      "Epoch 4/100\n",
      "6/6 [==============================] - 1s 121ms/step - loss: 0.2770 - accuracy: 0.9405 - val_loss: 2.3165 - val_accuracy: 0.3542\n",
      "Epoch 5/100\n",
      "6/6 [==============================] - 1s 145ms/step - loss: 0.2371 - accuracy: 0.9345 - val_loss: 2.5453 - val_accuracy: 0.3438\n",
      "Epoch 6/100\n",
      "6/6 [==============================] - 1s 165ms/step - loss: 0.1737 - accuracy: 0.9405 - val_loss: 2.6574 - val_accuracy: 0.3594\n",
      "Epoch 7/100\n",
      "6/6 [==============================] - 1s 162ms/step - loss: 0.2107 - accuracy: 0.9464 - val_loss: 2.5231 - val_accuracy: 0.4115\n",
      "Epoch 8/100\n",
      "6/6 [==============================] - 1s 174ms/step - loss: 0.3202 - accuracy: 0.8988 - val_loss: 1.7125 - val_accuracy: 0.3490\n",
      "Epoch 9/100\n",
      "6/6 [==============================] - 1s 129ms/step - loss: 0.1848 - accuracy: 0.9226 - val_loss: 1.7740 - val_accuracy: 0.3698\n",
      "Epoch 10/100\n",
      "6/6 [==============================] - 1s 134ms/step - loss: 0.1544 - accuracy: 0.9524 - val_loss: 2.1061 - val_accuracy: 0.3594\n",
      "Epoch 11/100\n",
      "6/6 [==============================] - 1s 150ms/step - loss: 0.1489 - accuracy: 0.9643 - val_loss: 2.3523 - val_accuracy: 0.3438\n",
      "Epoch 12/100\n",
      "6/6 [==============================] - 1s 136ms/step - loss: 0.1893 - accuracy: 0.9583 - val_loss: 2.5737 - val_accuracy: 0.3438\n",
      "Epoch 13/100\n",
      "6/6 [==============================] - 1s 168ms/step - loss: 0.1556 - accuracy: 0.9635 - val_loss: 2.0860 - val_accuracy: 0.3385\n",
      "Epoch 14/100\n",
      "6/6 [==============================] - 1s 125ms/step - loss: 0.1420 - accuracy: 0.9643 - val_loss: 1.8661 - val_accuracy: 0.3646\n",
      "Epoch 15/100\n",
      "6/6 [==============================] - 1s 150ms/step - loss: 0.1452 - accuracy: 0.9643 - val_loss: 2.2854 - val_accuracy: 0.3646\n",
      "Epoch 16/100\n",
      "6/6 [==============================] - 1s 157ms/step - loss: 0.1825 - accuracy: 0.9405 - val_loss: 2.3815 - val_accuracy: 0.3281\n",
      "Epoch 17/100\n",
      "6/6 [==============================] - 1s 135ms/step - loss: 0.1448 - accuracy: 0.9524 - val_loss: 1.4542 - val_accuracy: 0.4323\n",
      "Epoch 18/100\n",
      "6/6 [==============================] - 1s 159ms/step - loss: 0.1204 - accuracy: 0.9583 - val_loss: 2.3335 - val_accuracy: 0.3854\n",
      "Epoch 19/100\n",
      "6/6 [==============================] - 1s 132ms/step - loss: 0.1104 - accuracy: 0.9762 - val_loss: 2.0293 - val_accuracy: 0.3802\n",
      "Epoch 20/100\n",
      "6/6 [==============================] - 1s 118ms/step - loss: 0.1088 - accuracy: 0.9583 - val_loss: 1.6531 - val_accuracy: 0.4427\n",
      "Epoch 21/100\n",
      "6/6 [==============================] - 1s 144ms/step - loss: 0.1088 - accuracy: 0.9531 - val_loss: 2.4486 - val_accuracy: 0.4062\n",
      "Epoch 22/100\n",
      "6/6 [==============================] - 1s 135ms/step - loss: 0.1019 - accuracy: 0.9643 - val_loss: 1.9279 - val_accuracy: 0.4167\n",
      "Epoch 23/100\n",
      "6/6 [==============================] - 1s 130ms/step - loss: 0.0899 - accuracy: 0.9702 - val_loss: 2.3705 - val_accuracy: 0.4062\n",
      "Epoch 24/100\n",
      "6/6 [==============================] - 1s 137ms/step - loss: 0.1384 - accuracy: 0.9583 - val_loss: 2.7777 - val_accuracy: 0.4688\n",
      "Epoch 25/100\n",
      "6/6 [==============================] - 1s 127ms/step - loss: 0.2252 - accuracy: 0.9405 - val_loss: 3.7924 - val_accuracy: 0.4010\n",
      "Epoch 26/100\n",
      "6/6 [==============================] - 1s 119ms/step - loss: 0.2370 - accuracy: 0.9107 - val_loss: 1.2039 - val_accuracy: 0.4688\n",
      "Epoch 27/100\n",
      "6/6 [==============================] - 1s 162ms/step - loss: 0.1486 - accuracy: 0.9583 - val_loss: 2.9516 - val_accuracy: 0.3854\n",
      "Epoch 28/100\n",
      "6/6 [==============================] - 1s 141ms/step - loss: 0.1422 - accuracy: 0.9643 - val_loss: 3.2322 - val_accuracy: 0.3490\n",
      "Epoch 29/100\n",
      "6/6 [==============================] - 1s 128ms/step - loss: 0.1984 - accuracy: 0.9286 - val_loss: 2.1422 - val_accuracy: 0.3698\n",
      "Epoch 30/100\n",
      "6/6 [==============================] - 1s 152ms/step - loss: 0.1496 - accuracy: 0.9583 - val_loss: 1.8249 - val_accuracy: 0.3750\n",
      "Epoch 31/100\n",
      "6/6 [==============================] - 1s 164ms/step - loss: 0.1107 - accuracy: 0.9464 - val_loss: 2.4778 - val_accuracy: 0.4010\n",
      "Epoch 32/100\n",
      "6/6 [==============================] - 1s 146ms/step - loss: 0.1236 - accuracy: 0.9524 - val_loss: 2.3150 - val_accuracy: 0.3542\n",
      "Epoch 33/100\n",
      "6/6 [==============================] - 1s 114ms/step - loss: 0.0724 - accuracy: 0.9821 - val_loss: 2.7208 - val_accuracy: 0.3385\n",
      "Epoch 34/100\n",
      "6/6 [==============================] - 1s 144ms/step - loss: 0.0802 - accuracy: 0.9702 - val_loss: 2.3081 - val_accuracy: 0.3646\n",
      "Epoch 35/100\n",
      "6/6 [==============================] - 1s 146ms/step - loss: 0.0689 - accuracy: 0.9702 - val_loss: 2.4511 - val_accuracy: 0.4010\n",
      "Epoch 36/100\n",
      "6/6 [==============================] - 1s 152ms/step - loss: 0.0509 - accuracy: 0.9881 - val_loss: 2.8217 - val_accuracy: 0.3906\n",
      "Epoch 37/100\n",
      "6/6 [==============================] - 1s 123ms/step - loss: 0.0796 - accuracy: 0.9821 - val_loss: 3.0897 - val_accuracy: 0.3542\n",
      "Epoch 38/100\n",
      "6/6 [==============================] - 1s 135ms/step - loss: 0.0765 - accuracy: 0.9762 - val_loss: 1.8816 - val_accuracy: 0.3958\n",
      "Epoch 39/100\n",
      "6/6 [==============================] - 1s 145ms/step - loss: 0.0340 - accuracy: 0.9881 - val_loss: 3.5168 - val_accuracy: 0.3438\n",
      "Epoch 40/100\n",
      "6/6 [==============================] - 1s 141ms/step - loss: 0.1044 - accuracy: 0.9792 - val_loss: 3.8024 - val_accuracy: 0.3333\n",
      "Epoch 41/100\n",
      "6/6 [==============================] - 1s 132ms/step - loss: 0.0954 - accuracy: 0.9583 - val_loss: 2.3546 - val_accuracy: 0.3646\n",
      "Epoch 42/100\n",
      "6/6 [==============================] - 1s 138ms/step - loss: 0.0677 - accuracy: 0.9643 - val_loss: 3.7546 - val_accuracy: 0.3177\n",
      "Epoch 43/100\n",
      "6/6 [==============================] - 1s 123ms/step - loss: 0.0674 - accuracy: 0.9702 - val_loss: 3.7197 - val_accuracy: 0.3490\n",
      "Epoch 44/100\n",
      "6/6 [==============================] - 1s 128ms/step - loss: 0.0539 - accuracy: 0.9762 - val_loss: 3.0283 - val_accuracy: 0.3438\n",
      "Epoch 45/100\n",
      "6/6 [==============================] - 1s 157ms/step - loss: 0.0639 - accuracy: 0.9821 - val_loss: 3.1409 - val_accuracy: 0.3594\n",
      "Epoch 46/100\n",
      "6/6 [==============================] - 1s 131ms/step - loss: 0.0541 - accuracy: 0.9702 - val_loss: 3.3914 - val_accuracy: 0.3646\n",
      "Epoch 47/100\n",
      "6/6 [==============================] - 1s 130ms/step - loss: 0.0359 - accuracy: 0.9881 - val_loss: 3.4938 - val_accuracy: 0.3802\n",
      "Epoch 48/100\n",
      "6/6 [==============================] - 1s 135ms/step - loss: 0.0190 - accuracy: 0.9940 - val_loss: 4.2369 - val_accuracy: 0.3385\n",
      "Epoch 49/100\n",
      "6/6 [==============================] - 1s 145ms/step - loss: 0.0248 - accuracy: 0.9821 - val_loss: 3.9420 - val_accuracy: 0.3542\n",
      "Epoch 50/100\n",
      "6/6 [==============================] - 1s 134ms/step - loss: 0.0162 - accuracy: 1.0000 - val_loss: 4.0740 - val_accuracy: 0.3490\n",
      "Epoch 51/100\n",
      "6/6 [==============================] - 1s 130ms/step - loss: 0.0210 - accuracy: 0.9940 - val_loss: 4.2756 - val_accuracy: 0.3542\n",
      "Epoch 52/100\n",
      "6/6 [==============================] - 1s 138ms/step - loss: 0.0188 - accuracy: 0.9881 - val_loss: 3.2076 - val_accuracy: 0.4062\n",
      "Epoch 53/100\n",
      "6/6 [==============================] - 1s 176ms/step - loss: 0.0602 - accuracy: 0.9792 - val_loss: 5.4642 - val_accuracy: 0.3646\n",
      "Epoch 54/100\n",
      "6/6 [==============================] - 1s 133ms/step - loss: 0.0766 - accuracy: 0.9792 - val_loss: 4.4995 - val_accuracy: 0.3698\n",
      "Epoch 55/100\n",
      "6/6 [==============================] - 1s 127ms/step - loss: 0.0256 - accuracy: 0.9940 - val_loss: 2.8409 - val_accuracy: 0.4688\n",
      "Epoch 56/100\n",
      "6/6 [==============================] - 1s 132ms/step - loss: 0.0391 - accuracy: 0.9881 - val_loss: 5.4327 - val_accuracy: 0.3438\n",
      "Epoch 57/100\n",
      "6/6 [==============================] - 1s 123ms/step - loss: 0.0536 - accuracy: 0.9821 - val_loss: 4.0396 - val_accuracy: 0.3802\n",
      "Epoch 58/100\n",
      "6/6 [==============================] - 1s 124ms/step - loss: 0.0109 - accuracy: 0.9940 - val_loss: 3.7597 - val_accuracy: 0.4062\n",
      "Epoch 59/100\n",
      "6/6 [==============================] - 1s 130ms/step - loss: 0.0230 - accuracy: 0.9881 - val_loss: 3.9028 - val_accuracy: 0.4115\n",
      "Epoch 60/100\n",
      "6/6 [==============================] - 1s 112ms/step - loss: 0.0502 - accuracy: 0.9762 - val_loss: 4.0792 - val_accuracy: 0.3802\n",
      "Epoch 61/100\n",
      "6/6 [==============================] - 1s 162ms/step - loss: 0.0749 - accuracy: 0.9635 - val_loss: 5.1093 - val_accuracy: 0.3385\n",
      "Epoch 62/100\n",
      "6/6 [==============================] - 1s 142ms/step - loss: 0.0721 - accuracy: 0.9844 - val_loss: 5.4125 - val_accuracy: 0.3698\n",
      "Epoch 63/100\n",
      "6/6 [==============================] - 1s 132ms/step - loss: 0.1094 - accuracy: 0.9583 - val_loss: 5.8964 - val_accuracy: 0.3073\n",
      "Epoch 64/100\n",
      "6/6 [==============================] - 1s 131ms/step - loss: 0.0717 - accuracy: 0.9635 - val_loss: 5.7362 - val_accuracy: 0.3021\n",
      "Epoch 65/100\n",
      "6/6 [==============================] - 1s 137ms/step - loss: 0.0281 - accuracy: 0.9881 - val_loss: 4.7021 - val_accuracy: 0.3281\n",
      "Epoch 66/100\n",
      "6/6 [==============================] - 1s 129ms/step - loss: 0.0214 - accuracy: 0.9940 - val_loss: 4.0848 - val_accuracy: 0.3385\n",
      "Epoch 67/100\n",
      "6/6 [==============================] - 1s 142ms/step - loss: 0.0237 - accuracy: 0.9881 - val_loss: 4.0371 - val_accuracy: 0.3802\n",
      "Epoch 68/100\n",
      "6/6 [==============================] - 1s 148ms/step - loss: 0.0090 - accuracy: 1.0000 - val_loss: 4.8883 - val_accuracy: 0.3333\n",
      "Epoch 69/100\n",
      "6/6 [==============================] - 1s 121ms/step - loss: 0.0131 - accuracy: 1.0000 - val_loss: 3.6702 - val_accuracy: 0.3802\n",
      "Epoch 70/100\n",
      "6/6 [==============================] - 1s 119ms/step - loss: 0.0085 - accuracy: 1.0000 - val_loss: 3.6605 - val_accuracy: 0.3802\n",
      "Epoch 71/100\n",
      "6/6 [==============================] - 1s 129ms/step - loss: 0.0098 - accuracy: 0.9940 - val_loss: 4.0092 - val_accuracy: 0.3854\n",
      "Epoch 72/100\n",
      "6/6 [==============================] - 1s 152ms/step - loss: 0.0069 - accuracy: 1.0000 - val_loss: 4.4718 - val_accuracy: 0.3542\n",
      "Epoch 73/100\n",
      "6/6 [==============================] - 1s 141ms/step - loss: 0.0053 - accuracy: 1.0000 - val_loss: 4.8034 - val_accuracy: 0.3438\n",
      "Epoch 74/100\n",
      "6/6 [==============================] - 1s 136ms/step - loss: 0.0033 - accuracy: 1.0000 - val_loss: 4.7829 - val_accuracy: 0.3698\n",
      "Epoch 75/100\n",
      "6/6 [==============================] - 1s 143ms/step - loss: 0.0097 - accuracy: 1.0000 - val_loss: 4.4887 - val_accuracy: 0.3698\n",
      "Epoch 76/100\n",
      "6/6 [==============================] - 1s 163ms/step - loss: 0.0066 - accuracy: 1.0000 - val_loss: 4.3520 - val_accuracy: 0.3750\n",
      "Epoch 77/100\n",
      "6/6 [==============================] - 1s 162ms/step - loss: 0.0035 - accuracy: 1.0000 - val_loss: 5.0339 - val_accuracy: 0.3594\n",
      "Epoch 78/100\n",
      "6/6 [==============================] - 1s 134ms/step - loss: 0.0030 - accuracy: 1.0000 - val_loss: 5.3738 - val_accuracy: 0.3438\n",
      "Epoch 79/100\n",
      "6/6 [==============================] - 1s 145ms/step - loss: 0.0064 - accuracy: 1.0000 - val_loss: 4.9312 - val_accuracy: 0.3438\n",
      "Epoch 80/100\n",
      "6/6 [==============================] - 1s 117ms/step - loss: 0.0037 - accuracy: 1.0000 - val_loss: 5.2129 - val_accuracy: 0.3490\n",
      "Epoch 81/100\n",
      "6/6 [==============================] - 1s 138ms/step - loss: 9.9483e-04 - accuracy: 1.0000 - val_loss: 5.5465 - val_accuracy: 0.3438\n",
      "Epoch 82/100\n",
      "6/6 [==============================] - 1s 212ms/step - loss: 0.0034 - accuracy: 1.0000 - val_loss: 5.6863 - val_accuracy: 0.3333\n",
      "Epoch 83/100\n",
      "6/6 [==============================] - 1s 144ms/step - loss: 0.0034 - accuracy: 1.0000 - val_loss: 5.2994 - val_accuracy: 0.3490\n",
      "Epoch 84/100\n",
      "6/6 [==============================] - 1s 172ms/step - loss: 0.0069 - accuracy: 1.0000 - val_loss: 4.6528 - val_accuracy: 0.3594\n",
      "Epoch 85/100\n",
      "6/6 [==============================] - 1s 157ms/step - loss: 0.0049 - accuracy: 1.0000 - val_loss: 5.5294 - val_accuracy: 0.3385\n",
      "Epoch 86/100\n",
      "6/6 [==============================] - 1s 166ms/step - loss: 0.0018 - accuracy: 1.0000 - val_loss: 6.4277 - val_accuracy: 0.3125\n",
      "Epoch 87/100\n",
      "6/6 [==============================] - 1s 168ms/step - loss: 0.0037 - accuracy: 1.0000 - val_loss: 6.1168 - val_accuracy: 0.3385\n",
      "Epoch 88/100\n",
      "6/6 [==============================] - 1s 159ms/step - loss: 0.0019 - accuracy: 1.0000 - val_loss: 5.8849 - val_accuracy: 0.3490\n",
      "Epoch 89/100\n",
      "6/6 [==============================] - 1s 132ms/step - loss: 0.0016 - accuracy: 1.0000 - val_loss: 5.8960 - val_accuracy: 0.3490\n",
      "Epoch 90/100\n",
      "6/6 [==============================] - 1s 130ms/step - loss: 0.0010 - accuracy: 1.0000 - val_loss: 6.2412 - val_accuracy: 0.3438\n",
      "Epoch 91/100\n",
      "6/6 [==============================] - 1s 153ms/step - loss: 0.0031 - accuracy: 1.0000 - val_loss: 5.9797 - val_accuracy: 0.3333\n",
      "Epoch 92/100\n",
      "6/6 [==============================] - 1s 118ms/step - loss: 0.0013 - accuracy: 1.0000 - val_loss: 5.7174 - val_accuracy: 0.3594\n",
      "Epoch 93/100\n",
      "6/6 [==============================] - 1s 126ms/step - loss: 0.0013 - accuracy: 1.0000 - val_loss: 6.1022 - val_accuracy: 0.3281\n",
      "Epoch 94/100\n",
      "6/6 [==============================] - 1s 135ms/step - loss: 7.5364e-04 - accuracy: 1.0000 - val_loss: 6.4329 - val_accuracy: 0.3385\n",
      "Epoch 95/100\n",
      "6/6 [==============================] - 1s 170ms/step - loss: 0.0014 - accuracy: 1.0000 - val_loss: 6.4336 - val_accuracy: 0.3281\n",
      "Epoch 96/100\n",
      "6/6 [==============================] - 1s 179ms/step - loss: 0.0012 - accuracy: 1.0000 - val_loss: 6.2145 - val_accuracy: 0.3385\n",
      "Epoch 97/100\n",
      "6/6 [==============================] - 1s 165ms/step - loss: 8.1659e-04 - accuracy: 1.0000 - val_loss: 6.0943 - val_accuracy: 0.3229\n",
      "Epoch 98/100\n",
      "6/6 [==============================] - 1s 179ms/step - loss: 8.4122e-04 - accuracy: 1.0000 - val_loss: 6.0270 - val_accuracy: 0.3281\n",
      "Epoch 99/100\n",
      "6/6 [==============================] - 1s 169ms/step - loss: 0.0019 - accuracy: 1.0000 - val_loss: 6.1974 - val_accuracy: 0.3281\n",
      "Epoch 100/100\n",
      "6/6 [==============================] - 1s 163ms/step - loss: 0.0016 - accuracy: 1.0000 - val_loss: 6.8113 - val_accuracy: 0.3281\n"
     ]
    }
   ],
   "source": [
    "history=detector.fit(x_train,steps_per_epoch=200//32,epochs=100,validation_data=x_test,validation_steps=200//32)"
   ]
  },
  {
   "cell_type": "code",
   "execution_count": 14,
   "metadata": {},
   "outputs": [],
   "source": [
    "detector.save(\"breast_cancer.h5\")"
   ]
  },
  {
   "cell_type": "markdown",
   "metadata": {},
   "source": [
    "# 10. SAVING THE MODEL"
   ]
  },
  {
   "cell_type": "code",
   "execution_count": 15,
   "metadata": {},
   "outputs": [],
   "source": [
    "from tensorflow.keras.models import load_model\n",
    "from keras.preprocessing import image\n",
    "import numpy as np\n",
    "model=load_model(r\"breast_cancer.h5\")\n",
    "img=image.load_img(r\"C:\\Users\\Sri_Harshitha\\Desktop\\BC_Project\\Dataset\\TEST\\0\\10279_idx5_x51_y1551_class0.png\",target_size=(32,32))\n",
    "x=image.img_to_array(img)\n",
    "x=np.expand_dims(x,axis=0)\n",
    "y=model.predict(x)\n",
    "#pred=np.argmax(y, axis=1)"
   ]
  },
  {
   "cell_type": "code",
   "execution_count": 16,
   "metadata": {},
   "outputs": [
    {
     "data": {
      "text/plain": [
       "array([[1.]], dtype=float32)"
      ]
     },
     "execution_count": 16,
     "metadata": {},
     "output_type": "execute_result"
    }
   ],
   "source": [
    "y"
   ]
  },
  {
   "cell_type": "markdown",
   "metadata": {},
   "source": []
  }
 ],
 "metadata": {
  "interpreter": {
   "hash": "ab10db72ad350fc049b5a3a07763e6e7fe3ecfabc90a64055da7f8ebea0a0519"
  },
  "kernelspec": {
   "display_name": "Python 3.8.8 64-bit ('base': conda)",
   "name": "python3"
  },
  "language_info": {
   "codemirror_mode": {
    "name": "ipython",
    "version": 3
   },
   "file_extension": ".py",
   "mimetype": "text/x-python",
   "name": "python",
   "nbconvert_exporter": "python",
   "pygments_lexer": "ipython3",
   "version": "3.8.8"
  }
 },
 "nbformat": 4,
 "nbformat_minor": 4
}
